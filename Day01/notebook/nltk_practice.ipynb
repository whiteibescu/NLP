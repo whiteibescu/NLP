{
 "cells": [
  {
   "cell_type": "markdown",
   "metadata": {},
   "source": [
    "# NLTK Practice"
   ]
  },
  {
   "cell_type": "code",
   "execution_count": 1,
   "metadata": {},
   "outputs": [],
   "source": [
    "import nltk\n",
    "import math\n",
    "from os import listdir\n",
    "from os.path import join\n",
    "from operator import itemgetter\n",
    "from collections import defaultdict"
   ]
  },
  {
   "cell_type": "code",
   "execution_count": 2,
   "metadata": {},
   "outputs": [
    {
     "name": "stderr",
     "output_type": "stream",
     "text": [
      "[nltk_data] Downloading package punkt to\n",
      "[nltk_data]     C:\\Users\\user\\AppData\\Roaming\\nltk_data...\n",
      "[nltk_data]   Package punkt is already up-to-date!\n",
      "[nltk_data] Downloading package averaged_perceptron_tagger to\n",
      "[nltk_data]     C:\\Users\\user\\AppData\\Roaming\\nltk_data...\n",
      "[nltk_data]   Package averaged_perceptron_tagger is already up-to-\n",
      "[nltk_data]       date!\n"
     ]
    },
    {
     "data": {
      "text/plain": [
       "True"
      ]
     },
     "execution_count": 2,
     "metadata": {},
     "output_type": "execute_result"
    }
   ],
   "source": [
    "nltk.download('punkt')\n",
    "nltk.download('averaged_perceptron_tagger')"
   ]
  },
  {
   "cell_type": "code",
   "execution_count": 3,
   "metadata": {},
   "outputs": [
    {
     "name": "stdout",
     "output_type": "stream",
     "text": [
      "['./Data\\\\endoc1.txt', './Data\\\\endoc2.txt', './Data\\\\endoc3.txt', './Data\\\\endoc4.txt', './Data\\\\endoc5.txt', './Data\\\\endoc6.txt', './Data\\\\endoc7.txt', './Data\\\\endoc8.txt']\n"
     ]
    }
   ],
   "source": [
    "# get data list\n",
    "data_dir = \"./Data\"\n",
    "files = [join(data_dir, f) for f in listdir(data_dir)]\n",
    "print(files)"
   ]
  },
  {
   "cell_type": "code",
   "execution_count": 4,
   "metadata": {},
   "outputs": [],
   "source": [
    "# nouns for keywords\n",
    "Nouns = ['NN', 'NNS', 'NNP', 'NNPS']"
   ]
  },
  {
   "cell_type": "markdown",
   "metadata": {},
   "source": [
    "## Keyword Extractor"
   ]
  },
  {
   "cell_type": "code",
   "execution_count": 11,
   "metadata": {
    "scrolled": true
   },
   "outputs": [
    {
     "name": "stdout",
     "output_type": "stream",
     "text": [
      "getting frequency\n"
     ]
    }
   ],
   "source": [
    "# get word-freq\n",
    "print('getting frequency')\n",
    "words_freq = defaultdict(int)\n",
    "words_prob = defaultdict(int)"
   ]
  },
  {
   "cell_type": "code",
   "execution_count": 12,
   "metadata": {},
   "outputs": [
    {
     "name": "stdout",
     "output_type": "stream",
     "text": [
      "processing ./Data\\endoc1.txt\n",
      "processing ./Data\\endoc2.txt\n",
      "processing ./Data\\endoc3.txt\n",
      "processing ./Data\\endoc4.txt\n",
      "processing ./Data\\endoc5.txt\n",
      "processing ./Data\\endoc6.txt\n",
      "processing ./Data\\endoc7.txt\n",
      "processing ./Data\\endoc8.txt\n"
     ]
    }
   ],
   "source": [
    "for intxt in files:\n",
    "    print('processing '+intxt)\n",
    "    infile = open(intxt, \"r\", encoding='utf-8')\n",
    "    text = infile.read()\n",
    "    tokens = nltk.word_tokenize(text)\n",
    "    sent = nltk.pos_tag(tokens)\n",
    "    len_doc = len(tokens)\n",
    "\n",
    "    # if the tag is Noun\n",
    "    # save the word-count pair in the dictionary\n",
    "    # and save the word-word_frequency pair in another dictionary\n",
    "\n",
    "    # fill"
   ]
  },
  {
   "cell_type": "code",
   "execution_count": 13,
   "metadata": {},
   "outputs": [
    {
     "name": "stdout",
     "output_type": "stream",
     "text": [
      "sorting the keywords\n"
     ]
    }
   ],
   "source": [
    "# sorting\n",
    "print('sorting the keywords')\n",
    "sortedList_freq = sorted(words_freq.items(), key=itemgetter(1), reverse=True)\n",
    "sortedList_prob = sorted(words_prob.items(), key=itemgetter(1), reverse=True)"
   ]
  },
  {
   "cell_type": "code",
   "execution_count": 14,
   "metadata": {},
   "outputs": [
    {
     "name": "stdout",
     "output_type": "stream",
     "text": [
      "('US', 42)\n",
      "('people', 29)\n",
      "('Russia', 26)\n",
      "('China', 19)\n",
      "('North', 18)\n",
      "('Iran', 18)\n",
      "('Kennedy', 17)\n",
      "('years', 16)\n",
      "('Korea', 16)\n",
      "('Afghan', 16)\n",
      "\n",
      "('US', 0.041478945630089366)\n",
      "('Iran', 0.028081123244929798)\n",
      "('China', 0.026340824887495645)\n",
      "('Russia', 0.021464521001222214)\n",
      "('tobacco', 0.019736842105263157)\n",
      "('people', 0.019064657930372576)\n",
      "('EU', 0.0171606864274571)\n",
      "('Kennedy', 0.014718614718614714)\n",
      "('South', 0.014195441777828926)\n",
      "('North', 0.013937446334055284)\n",
      "\n",
      "US \t -3.182569314697745\n",
      "Iran \t -3.5726576990245054\n",
      "China \t -3.636635266244092\n",
      "Russia \t -3.8413538928948223\n",
      "tobacco \t -3.925268232178167\n",
      "people \t -3.959919028116681\n",
      "EU \t -4.065134184122299\n",
      "Kennedy \t -4.2186422788996785\n",
      "South \t -4.254834367468295\n",
      "North \t -4.2731760802405825\n"
     ]
    }
   ],
   "source": [
    "for item in sortedList_freq[:10] :\n",
    "    print(item)\n",
    "print()\n",
    "for item in sortedList_prob[:10] :\n",
    "    print(item)\n",
    "print()\n",
    "for item in sortedList_prob[0:10]:\n",
    "    print (item[0],'\\t', math.log(item[1]))"
   ]
  },
  {
   "cell_type": "markdown",
   "metadata": {},
   "source": [
    "## Document Finder"
   ]
  },
  {
   "cell_type": "code",
   "execution_count": 9,
   "metadata": {},
   "outputs": [
    {
     "name": "stdout",
     "output_type": "stream",
     "text": [
      "getting frequency\n"
     ]
    }
   ],
   "source": [
    "print('getting frequency')\n",
    "keywords_per_doc=defaultdict(int)"
   ]
  },
  {
   "cell_type": "code",
   "execution_count": 18,
   "metadata": {},
   "outputs": [
    {
     "name": "stdout",
     "output_type": "stream",
     "text": [
      "processing ./Data\\endoc1.txt\n",
      "processing ./Data\\endoc2.txt\n",
      "processing ./Data\\endoc3.txt\n",
      "processing ./Data\\endoc4.txt\n",
      "processing ./Data\\endoc5.txt\n",
      "processing ./Data\\endoc6.txt\n",
      "processing ./Data\\endoc7.txt\n",
      "processing ./Data\\endoc8.txt\n"
     ]
    }
   ],
   "source": [
    "for intxt in files:\n",
    "    print('processing '+ intxt)\n",
    "    words_freq=defaultdict(int)\n",
    "    infile = open(intxt, \"r\", encoding='utf-8')\n",
    "    text = infile.read()\n",
    "    tokens = nltk.word_tokenize(text)\n",
    "    sent = nltk.pos_tag(tokens)\n",
    "\n",
    "    # if the tag is Noun and consists of only alphabets\n",
    "    # save the word-count pair in the dictionary\n",
    "    \n",
    "    # fill\n",
    "\n",
    "    # save only 10 keywords\n",
    "    sortedList = sorted(words_freq.items(), key=itemgetter(1), reverse=True)\n",
    "    keywords_per_doc[intxt] = [x[0] for x in sortedList[0:10]]"
   ]
  },
  {
   "cell_type": "code",
   "execution_count": 19,
   "metadata": {},
   "outputs": [],
   "source": [
    "dic={}\n",
    "for intxt in files:\n",
    "    keywords = keywords_per_doc[intxt]\n",
    "    for keyword in keywords:\n",
    "        if keyword in dic:\n",
    "            dic[keyword] += (\", \" + intxt)\n",
    "        else:\n",
    "            dic[keyword] = intxt"
   ]
  },
  {
   "cell_type": "code",
   "execution_count": 20,
   "metadata": {},
   "outputs": [
    {
     "name": "stdout",
     "output_type": "stream",
     "text": [
      "type keyword (q:to exit)\n",
      "us\n",
      "./Data\\endoc1.txt, ./Data\\endoc4.txt, ./Data\\endoc5.txt, ./Data\\endoc8.txt\n",
      "type keyword (q:to exit)\n",
      "iran\n",
      "./Data\\endoc5.txt\n",
      "type keyword (q:to exit)\n",
      "q\n"
     ]
    }
   ],
   "source": [
    "# test\n",
    "while True:\n",
    "    print('type keyword (q:to exit)')\n",
    "    query = input().strip()\n",
    "    #print(query)\n",
    "    if query == 'q':\n",
    "        break\n",
    "    if query in dic:\n",
    "        print(dic[query])\n",
    "    else:\n",
    "        print('no such document')"
   ]
  },
  {
   "cell_type": "code",
   "execution_count": null,
   "metadata": {},
   "outputs": [],
   "source": []
  }
 ],
 "metadata": {
  "kernelspec": {
   "display_name": "Python 3",
   "language": "python",
   "name": "python3"
  },
  "language_info": {
   "codemirror_mode": {
    "name": "ipython",
    "version": 3
   },
   "file_extension": ".py",
   "mimetype": "text/x-python",
   "name": "python",
   "nbconvert_exporter": "python",
   "pygments_lexer": "ipython3",
   "version": "3.8.3"
  }
 },
 "nbformat": 4,
 "nbformat_minor": 2
}
