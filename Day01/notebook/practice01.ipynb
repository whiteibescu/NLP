{
 "cells": [
  {
   "cell_type": "code",
   "execution_count": 2,
   "metadata": {},
   "outputs": [],
   "source": [
    "import torch\n",
    "import torch.nn"
   ]
  },
  {
   "cell_type": "code",
   "execution_count": 3,
   "metadata": {},
   "outputs": [],
   "source": [
    "vocab = {\n",
    "    '나': 0,\n",
    "    '는': 1,\n",
    "    '김밥': 2,\n",
    "    '과': 3,\n",
    "    '라면': 4,\n",
    "    '이': 5,\n",
    "    '좋다': 6\n",
    "}"
   ]
  },
  {
   "cell_type": "code",
   "execution_count": 4,
   "metadata": {},
   "outputs": [
    {
     "name": "stdout",
     "output_type": "stream",
     "text": [
      "Embedding(7, 10)\n",
      "Parameter containing:\n",
      "tensor([[ 0.0157, -1.3578, -0.3142,  1.2751, -0.7596,  1.0849,  1.5536, -0.0322,\n",
      "         -1.2699,  0.1248],\n",
      "        [ 0.7572, -1.2057, -0.7552, -0.9371, -0.6496, -0.0330, -0.4233,  0.5783,\n",
      "         -1.1254, -1.0697],\n",
      "        [-0.8828, -1.0190, -0.2148,  1.0587, -1.7515,  1.6645, -0.7951, -0.2353,\n",
      "          0.3547, -1.1338],\n",
      "        [-1.6430, -0.7012,  0.8773,  0.3125,  1.5270, -0.6819,  0.5911, -0.4232,\n",
      "         -1.3845, -1.2757],\n",
      "        [ 0.1580, -0.8043,  2.3269, -0.4184, -0.0236, -0.9860, -0.9836, -0.6071,\n",
      "         -0.2398,  0.8159],\n",
      "        [ 0.8705,  0.2884,  0.0308, -0.2416, -0.2029, -0.4775,  2.9817,  1.3653,\n",
      "          0.3576,  0.4988],\n",
      "        [ 0.9465, -0.0471, -0.3806,  1.2815,  0.6870, -0.8543, -0.7012, -0.1402,\n",
      "         -0.2488,  1.6845]], requires_grad=True)\n"
     ]
    }
   ],
   "source": [
    "dim=10\n",
    "emb_mtx = torch.nn.Embedding(len(vocab), dim)\n",
    "\n",
    "print(emb_mtx)\n",
    "print(emb_mtx.weight)"
   ]
  },
  {
   "cell_type": "code",
   "execution_count": 8,
   "metadata": {},
   "outputs": [
    {
     "name": "stdout",
     "output_type": "stream",
     "text": [
      "Tensor: tensor([4])\n",
      "Shape: torch.Size([1])\n",
      "\n",
      "Tensor:\n",
      "tensor([[ 0.1580, -0.8043,  2.3269, -0.4184, -0.0236, -0.9860, -0.9836, -0.6071,\n",
      "         -0.2398,  0.8159]], grad_fn=<EmbeddingBackward>)\n",
      "Shape: torch.Size([1, 10])\n"
     ]
    }
   ],
   "source": [
    "## Practice 1 ##\n",
    "\n",
    "# print word embedding of '라면'\n",
    "idx = torch.tensor([vocab['라면']], dtype=torch.long)\n",
    "print(\"Tensor: {}\\nShape: {}\\n\".format(idx, idx.size()))\n",
    "\n",
    "emb = emb_mtx(idx) # make word embedding for '라면'\n",
    "print(\"Tensor:\\n{}\\nShape: {}\".format(emb, emb.size()))"
   ]
  },
  {
   "cell_type": "code",
   "execution_count": 6,
   "metadata": {},
   "outputs": [
    {
     "ename": "SyntaxError",
     "evalue": "invalid syntax (Temp/ipykernel_17332/3684782818.py, line 7)",
     "output_type": "error",
     "traceback": [
      "\u001b[1;36m  File \u001b[1;32m\"C:\\Users\\white\\AppData\\Local\\Temp/ipykernel_17332/3684782818.py\"\u001b[1;36m, line \u001b[1;32m7\u001b[0m\n\u001b[1;33m    idx = # practice: convert word into index\u001b[0m\n\u001b[1;37m                                             ^\u001b[0m\n\u001b[1;31mSyntaxError\u001b[0m\u001b[1;31m:\u001b[0m invalid syntax\n"
     ]
    }
   ],
   "source": [
    "## Practice 2 ##\n",
    "\n",
    "# print word embeddings for a given sentence: \"김밥 라면 좋다\"\n",
    "sent = ['김밥', '라면', '좋다']\n",
    "idxs = []\n",
    "for word in sent:\n",
    "    idx = # practice: convert word into index\n",
    "    idxs.append(idx) # append idx to idxs\n",
    "\n",
    "idxs = # practice: convert index list to tensor\n",
    "print(\"Tensor: {}\\nShape: {}\\n\".format(idxs, idxs.size()))\n",
    "\n",
    "emb = # practice: convert idxs into word embedding\n",
    "print(\"Tensor:\\n{}\\nShape: {}\".format(emb, emb.size()))"
   ]
  },
  {
   "cell_type": "code",
   "execution_count": 7,
   "metadata": {},
   "outputs": [
    {
     "ename": "SyntaxError",
     "evalue": "invalid syntax (Temp/ipykernel_17332/21533388.py, line 11)",
     "output_type": "error",
     "traceback": [
      "\u001b[1;36m  File \u001b[1;32m\"C:\\Users\\white\\AppData\\Local\\Temp/ipykernel_17332/21533388.py\"\u001b[1;36m, line \u001b[1;32m11\u001b[0m\n\u001b[1;33m    idx = # practice: convert word into index\u001b[0m\n\u001b[1;37m                                             ^\u001b[0m\n\u001b[1;31mSyntaxError\u001b[0m\u001b[1;31m:\u001b[0m invalid syntax\n"
     ]
    }
   ],
   "source": [
    "## Practice 03 ##\n",
    "# construct batch level word embeddings: [\"김밥 라면 좋다\", \"나 는 라면\"]\n",
    "\n",
    "sents = [['김밥', '라면', '좋다'],\n",
    "         ['나', '는', '라면']]\n",
    "\n",
    "batch_idxs = []\n",
    "for sent in sents:\n",
    "    idxs = []\n",
    "    for word in sent:\n",
    "        idx = # practice: convert word into index\n",
    "        idxs.append(idx)\n",
    "    batch_idxs.append(idxs)\n",
    "\n",
    "batch_idxs = # practice: convert batch idx to tensor\n",
    "print(\"Tensor:\\n{}\\nShape: {}\".format(batch_idxs, batch_idxs.size()))\n",
    "print('')\n",
    "\n",
    "emb = # practice: convert idxs into word embedding\n",
    "print(\"Tensor:\\n{}\\nShape: {}\".format(emb, emb.size()))"
   ]
  },
  {
   "cell_type": "code",
   "execution_count": null,
   "metadata": {},
   "outputs": [],
   "source": []
  }
 ],
 "metadata": {
  "kernelspec": {
   "display_name": "test",
   "language": "python",
   "name": "test"
  },
  "language_info": {
   "codemirror_mode": {
    "name": "ipython",
    "version": 3
   },
   "file_extension": ".py",
   "mimetype": "text/x-python",
   "name": "python",
   "nbconvert_exporter": "python",
   "pygments_lexer": "ipython3",
   "version": "3.7.11"
  }
 },
 "nbformat": 4,
 "nbformat_minor": 4
}
